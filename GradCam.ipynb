{
  "nbformat": 4,
  "nbformat_minor": 0,
  "metadata": {
    "colab": {
      "name": "Untitled3.ipynb",
      "provenance": []
    },
    "kernelspec": {
      "name": "python3",
      "display_name": "Python 3"
    },
    "accelerator": "GPU"
  },
  "cells": [
    {
      "cell_type": "code",
      "metadata": {
        "id": "KiiyYyqnStyw",
        "colab_type": "code",
        "colab": {
          "base_uri": "https://localhost:8080/",
          "height": 34
        },
        "outputId": "35c5f330-57db-403a-e5f3-fcea4b83686c"
      },
      "source": [
        "import numpy as np \n",
        "import keras  \n",
        "from keras.datasets import mnist \n",
        "from keras.models import Model \n",
        "from keras.layers import Dense, Input\n",
        "from keras.layers import Conv2D, MaxPooling2D, Dropout, Flatten \n",
        "from keras import backend as k "
      ],
      "execution_count": 2,
      "outputs": [
        {
          "output_type": "stream",
          "text": [
            "Using TensorFlow backend.\n"
          ],
          "name": "stderr"
        }
      ]
    },
    {
      "cell_type": "code",
      "metadata": {
        "id": "5X703zlWZKyK",
        "colab_type": "code",
        "colab": {
          "base_uri": "https://localhost:8080/",
          "height": 50
        },
        "outputId": "5ea56aff-ea52-4e36-bc2d-08ac2e76c2c9"
      },
      "source": [
        "(x_train, y_train), (x_test, y_test) = mnist.load_data() "
      ],
      "execution_count": 4,
      "outputs": [
        {
          "output_type": "stream",
          "text": [
            "Downloading data from https://s3.amazonaws.com/img-datasets/mnist.npz\n",
            "11493376/11490434 [==============================] - 0s 0us/step\n"
          ],
          "name": "stdout"
        }
      ]
    },
    {
      "cell_type": "code",
      "metadata": {
        "id": "gSvuxNkRX8wM",
        "colab_type": "code",
        "colab": {}
      },
      "source": [
        "#some preprocessing\n",
        "img_rows, img_cols=28, 28\n",
        "  \n",
        "if k.image_data_format() == 'channels_first': \n",
        "   x_train = x_train.reshape(x_train.shape[0], 1, img_rows, img_cols) \n",
        "   x_test = x_test.reshape(x_test.shape[0], 1, img_rows, img_cols) \n",
        "   inpx = (1, img_rows, img_cols) \n",
        "  \n",
        "else: \n",
        "   x_train = x_train.reshape(x_train.shape[0], img_rows, img_cols, 1) \n",
        "   x_test = x_test.reshape(x_test.shape[0], img_rows, img_cols, 1) \n",
        "   inpx = (img_rows, img_cols, 1) \n",
        "  \n",
        "x_train = x_train.astype('float32') \n",
        "x_test = x_test.astype('float32') \n",
        "x_train /= 255\n",
        "x_test /= 255"
      ],
      "execution_count": 5,
      "outputs": []
    },
    {
      "cell_type": "code",
      "metadata": {
        "id": "q93UPJKiYAFB",
        "colab_type": "code",
        "colab": {}
      },
      "source": [
        "y_train = keras.utils.to_categorical(y_train) \n",
        "y_test = keras.utils.to_categorical(y_test) "
      ],
      "execution_count": 6,
      "outputs": []
    },
    {
      "cell_type": "code",
      "metadata": {
        "id": "IyNNtFZ5YAm6",
        "colab_type": "code",
        "colab": {}
      },
      "source": [
        "#my_model\n",
        "inpx = Input(shape=inpx) \n",
        "layer1 = Conv2D(32, kernel_size=(3, 3), activation='relu')(inpx) \n",
        "layer2 = Conv2D(64, (3, 3), activation='relu')(layer1) \n",
        "layer3 = MaxPooling2D(pool_size=(3, 3))(layer2) \n",
        "layer4 = Dropout(0.5)(layer3) \n",
        "layer5 = Flatten()(layer4) \n",
        "layer6 = Dense(250, activation='sigmoid')(layer5) \n",
        "layer7 = Dense(10, activation='softmax')(layer6) "
      ],
      "execution_count": 7,
      "outputs": []
    },
    {
      "cell_type": "code",
      "metadata": {
        "id": "qybjk8thYHsT",
        "colab_type": "code",
        "colab": {
          "base_uri": "https://localhost:8080/",
          "height": 437
        },
        "outputId": "0f8cd1a4-1b96-4f08-ed15-ca025185b039"
      },
      "source": [
        "model = Model([inpx], layer7) \n",
        "model.compile(optimizer=keras.optimizers.Adadelta(), \n",
        "              loss=keras.losses.categorical_crossentropy, \n",
        "              metrics=['accuracy']) \n",
        "  \n",
        "model.fit(x_train, y_train, epochs=12, batch_size=500) "
      ],
      "execution_count": 8,
      "outputs": [
        {
          "output_type": "stream",
          "text": [
            "Epoch 1/12\n",
            "60000/60000 [==============================] - 11s 182us/step - loss: 0.7402 - accuracy: 0.7712\n",
            "Epoch 2/12\n",
            "60000/60000 [==============================] - 5s 80us/step - loss: 0.2236 - accuracy: 0.9364\n",
            "Epoch 3/12\n",
            "60000/60000 [==============================] - 5s 80us/step - loss: 0.1326 - accuracy: 0.9625\n",
            "Epoch 4/12\n",
            "60000/60000 [==============================] - 5s 80us/step - loss: 0.0956 - accuracy: 0.9724\n",
            "Epoch 5/12\n",
            "60000/60000 [==============================] - 5s 80us/step - loss: 0.0766 - accuracy: 0.9774\n",
            "Epoch 6/12\n",
            "60000/60000 [==============================] - 5s 80us/step - loss: 0.0656 - accuracy: 0.9805\n",
            "Epoch 7/12\n",
            "60000/60000 [==============================] - 5s 80us/step - loss: 0.0572 - accuracy: 0.9828\n",
            "Epoch 8/12\n",
            "60000/60000 [==============================] - 5s 80us/step - loss: 0.0494 - accuracy: 0.9852\n",
            "Epoch 9/12\n",
            "60000/60000 [==============================] - 5s 80us/step - loss: 0.0460 - accuracy: 0.9869\n",
            "Epoch 10/12\n",
            "60000/60000 [==============================] - 5s 80us/step - loss: 0.0423 - accuracy: 0.9869\n",
            "Epoch 11/12\n",
            "60000/60000 [==============================] - 5s 80us/step - loss: 0.0384 - accuracy: 0.9881\n",
            "Epoch 12/12\n",
            "60000/60000 [==============================] - 5s 80us/step - loss: 0.0356 - accuracy: 0.9894\n"
          ],
          "name": "stdout"
        },
        {
          "output_type": "execute_result",
          "data": {
            "text/plain": [
              "<keras.callbacks.callbacks.History at 0x7fa71022de48>"
            ]
          },
          "metadata": {
            "tags": []
          },
          "execution_count": 8
        }
      ]
    },
    {
      "cell_type": "code",
      "metadata": {
        "id": "016V4TI0ZTJp",
        "colab_type": "code",
        "colab": {
          "base_uri": "https://localhost:8080/",
          "height": 420
        },
        "outputId": "33e54986-7414-4358-dc77-243645d22ffa"
      },
      "source": [
        "model.summary()"
      ],
      "execution_count": 9,
      "outputs": [
        {
          "output_type": "stream",
          "text": [
            "Model: \"model_1\"\n",
            "_________________________________________________________________\n",
            "Layer (type)                 Output Shape              Param #   \n",
            "=================================================================\n",
            "input_1 (InputLayer)         (None, 28, 28, 1)         0         \n",
            "_________________________________________________________________\n",
            "conv2d_1 (Conv2D)            (None, 26, 26, 32)        320       \n",
            "_________________________________________________________________\n",
            "conv2d_2 (Conv2D)            (None, 24, 24, 64)        18496     \n",
            "_________________________________________________________________\n",
            "max_pooling2d_1 (MaxPooling2 (None, 8, 8, 64)          0         \n",
            "_________________________________________________________________\n",
            "dropout_1 (Dropout)          (None, 8, 8, 64)          0         \n",
            "_________________________________________________________________\n",
            "flatten_1 (Flatten)          (None, 4096)              0         \n",
            "_________________________________________________________________\n",
            "dense_1 (Dense)              (None, 250)               1024250   \n",
            "_________________________________________________________________\n",
            "dense_2 (Dense)              (None, 10)                2510      \n",
            "=================================================================\n",
            "Total params: 1,045,576\n",
            "Trainable params: 1,045,576\n",
            "Non-trainable params: 0\n",
            "_________________________________________________________________\n"
          ],
          "name": "stdout"
        }
      ]
    },
    {
      "cell_type": "code",
      "metadata": {
        "id": "MMkpGLzPYJjs",
        "colab_type": "code",
        "colab": {
          "base_uri": "https://localhost:8080/",
          "height": 50
        },
        "outputId": "f8dbb38f-bf93-4cdf-8a29-7bf8d6beff6a"
      },
      "source": [
        "# model accuracy and loss\n",
        "score = model.evaluate(x_test, y_test, verbose=0) \n",
        "print('loss=', score[0]) \n",
        "print('accuracy=', score[1]) "
      ],
      "execution_count": 10,
      "outputs": [
        {
          "output_type": "stream",
          "text": [
            "loss= 0.029458514422969893\n",
            "accuracy= 0.9904000163078308\n"
          ],
          "name": "stdout"
        }
      ]
    },
    {
      "cell_type": "code",
      "metadata": {
        "id": "LG0gp0ewaHLj",
        "colab_type": "code",
        "colab": {
          "base_uri": "https://localhost:8080/",
          "height": 121
        },
        "outputId": "d2f8040e-3602-4dc7-ea9f-da245d69990e"
      },
      "source": [
        "from google.colab import drive \n",
        "drive.mount('/content/gdrive') "
      ],
      "execution_count": 11,
      "outputs": [
        {
          "output_type": "stream",
          "text": [
            "Go to this URL in a browser: https://accounts.google.com/o/oauth2/auth?client_id=947318989803-6bn6qk8qdgf4n4g3pfee6491hc0brc4i.apps.googleusercontent.com&redirect_uri=urn%3aietf%3awg%3aoauth%3a2.0%3aoob&response_type=code&scope=email%20https%3a%2f%2fwww.googleapis.com%2fauth%2fdocs.test%20https%3a%2f%2fwww.googleapis.com%2fauth%2fdrive%20https%3a%2f%2fwww.googleapis.com%2fauth%2fdrive.photos.readonly%20https%3a%2f%2fwww.googleapis.com%2fauth%2fpeopleapi.readonly\n",
            "\n",
            "Enter your authorization code:\n",
            "··········\n",
            "Mounted at /content/gdrive\n"
          ],
          "name": "stdout"
        }
      ]
    },
    {
      "cell_type": "code",
      "metadata": {
        "id": "rj-6Ik5iZSVh",
        "colab_type": "code",
        "colab": {}
      },
      "source": [
        "model.save(\"/content/gdrive/My Drive/GradCam/my_model.h5\")"
      ],
      "execution_count": 15,
      "outputs": []
    },
    {
      "cell_type": "code",
      "metadata": {
        "id": "CTCG3f8Ia9-a",
        "colab_type": "code",
        "colab": {
          "base_uri": "https://localhost:8080/",
          "height": 298
        },
        "outputId": "057257e5-c100-42b6-abbd-e7f9e45e65e8"
      },
      "source": [
        "#loading an image for inspection\n",
        "import matplotlib.pyplot as plt\n",
        "\n",
        "(x_imp, y_imp), (x_test_inp, y_test_inp) = mnist.load_data()\n",
        "print(y_imp[0]) \n",
        "plt.imshow(x_imp[0])"
      ],
      "execution_count": 121,
      "outputs": [
        {
          "output_type": "stream",
          "text": [
            "5\n"
          ],
          "name": "stdout"
        },
        {
          "output_type": "execute_result",
          "data": {
            "text/plain": [
              "<matplotlib.image.AxesImage at 0x7fa6c0615da0>"
            ]
          },
          "metadata": {
            "tags": []
          },
          "execution_count": 121
        },
        {
          "output_type": "display_data",
          "data": {
            "image/png": "[encoded data removed]",
            "text/plain": [
              "<Figure size 432x288 with 1 Axes>"
            ]
          },
          "metadata": {
            "tags": [],
            "needs_background": "light"
          }
        }
      ]
    },
    {
      "cell_type": "code",
      "metadata": {
        "id": "ngzaSNqjcHBy",
        "colab_type": "code",
        "colab": {
          "base_uri": "https://localhost:8080/",
          "height": 34
        },
        "outputId": "256fc0a2-d1a1-4f3d-fcca-50a3e1fbac92"
      },
      "source": [
        "#getting the class\n",
        "predict = model.predict(np.array([x_test[1],]))\n",
        "target_class = np.argmax(predict[0])\n",
        "print(\"Target Class = %d\"%target_class)"
      ],
      "execution_count": 172,
      "outputs": [
        {
          "output_type": "stream",
          "text": [
            "Target Class = 2\n"
          ],
          "name": "stdout"
        }
      ]
    },
    {
      "cell_type": "code",
      "metadata": {
        "id": "Gtl4Ws-leL-y",
        "colab_type": "code",
        "colab": {
          "base_uri": "https://localhost:8080/",
          "height": 34
        },
        "outputId": "375692a4-1b74-435a-fe3b-8c8e7322fd65"
      },
      "source": [
        "# main_algorithm\n",
        "# getting gradient of the class score wrt to the last convlutional layer\n",
        "last_conv_layer = model.get_layer('conv2d_2')\n",
        "grads = k.gradients(model.output[:,2],last_conv_layer.output)[0]\n",
        "print(grads.shape)"
      ],
      "execution_count": 173,
      "outputs": [
        {
          "output_type": "stream",
          "text": [
            "(None, 24, 24, 64)\n"
          ],
          "name": "stdout"
        }
      ]
    },
    {
      "cell_type": "code",
      "metadata": {
        "id": "Ts8fmhrDmN2w",
        "colab_type": "code",
        "colab": {
          "base_uri": "https://localhost:8080/",
          "height": 34
        },
        "outputId": "c01af8c4-443a-4a63-c8ba-06feba3c43fb"
      },
      "source": [
        "#global average pooling\n",
        "grad_pooled = k.mean(grads, axis=(0,1,2))\n",
        "print(grad_pooled.shape)"
      ],
      "execution_count": 175,
      "outputs": [
        {
          "output_type": "stream",
          "text": [
            "(64,)\n"
          ],
          "name": "stdout"
        }
      ]
    },
    {
      "cell_type": "code",
      "metadata": {
        "id": "E-F22v2coD38",
        "colab_type": "code",
        "colab": {
          "base_uri": "https://localhost:8080/",
          "height": 34
        },
        "outputId": "46ffa4d4-2705-42fe-c8fe-7c1d9a6e956a"
      },
      "source": [
        "# running on our test image(not from training data)\n",
        "function = k.function([model.input],[grad_pooled, last_conv_layer.output])\n",
        "pooled_grads_val, conv_layer_output = function(np.array([x_test[1],]))\n",
        "conv_layer_output = k.squeeze(conv_layer_output, axis=0)\n",
        "print(conv_layer_output.shape)"
      ],
      "execution_count": 176,
      "outputs": [
        {
          "output_type": "stream",
          "text": [
            "(24, 24, 64)\n"
          ],
          "name": "stdout"
        }
      ]
    },
    {
      "cell_type": "code",
      "metadata": {
        "id": "Wql0_C7IhjpM",
        "colab_type": "code",
        "colab": {}
      },
      "source": [
        "# weighted sum of activation\n",
        "weighted_activation = np.zeros(conv_layer_output.shape)\n",
        "for i in range(64):\n",
        "    weighted_activation[:,:,i] = conv_layer_output[:,:,i] * pooled_grads_value[i]\n",
        "heatmap = np.sum(weighted_activation,axis=-1)\n"
      ],
      "execution_count": 177,
      "outputs": []
    },
    {
      "cell_type": "code",
      "metadata": {
        "id": "77TBTBKbhn1n",
        "colab_type": "code",
        "colab": {
          "base_uri": "https://localhost:8080/",
          "height": 282
        },
        "outputId": "aabbd05f-ab31-4c02-c396-09bf4ca971b6"
      },
      "source": [
        "# applying relu and plotting the heat map\n",
        "import matplotlib.pyplot as plt\n",
        "heatmap = np.maximum(heatmap,0)\n",
        "heatmap /= np.max(heatmap)\n",
        "plt.imshow(heatmap)\n",
        "print(heatmap.shape)"
      ],
      "execution_count": 178,
      "outputs": [
        {
          "output_type": "stream",
          "text": [
            "(24, 24)\n"
          ],
          "name": "stdout"
        },
        {
          "output_type": "display_data",
          "data": {
            "image/png": "[encoded data removed]",
            "text/plain": [
              "<Figure size 432x288 with 1 Axes>"
            ]
          },
          "metadata": {
            "tags": [],
            "needs_background": "light"
          }
        }
      ]
    },
    {
      "cell_type": "code",
      "metadata": {
        "id": "AEzNB709wclE",
        "colab_type": "code",
        "colab": {
          "base_uri": "https://localhost:8080/",
          "height": 282
        },
        "outputId": "368b16ad-768d-4c5e-ecc7-cb0e3e67ad34"
      },
      "source": [
        "#test image\n",
        "plt.imshow(x_test_inp[1])"
      ],
      "execution_count": 179,
      "outputs": [
        {
          "output_type": "execute_result",
          "data": {
            "text/plain": [
              "<matplotlib.image.AxesImage at 0x7fa6bfd26748>"
            ]
          },
          "metadata": {
            "tags": []
          },
          "execution_count": 179
        },
        {
          "output_type": "display_data",
          "data": {
            "image/png": "[encoded data removed]",
            "text/plain": [
              "<Figure size 432x288 with 1 Axes>"
            ]
          },
          "metadata": {
            "tags": [],
            "needs_background": "light"
          }
        }
      ]
    }
  ]
}